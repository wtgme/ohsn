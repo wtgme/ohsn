{
 "cells": [
  {
   "cell_type": "code",
   "execution_count": 2,
   "id": "132a530f",
   "metadata": {},
   "outputs": [
    {
     "name": "stdout",
     "output_type": "stream",
     "text": [
      "/home/ubuntu/anaconda3/envs/myenv/bin/python\n"
     ]
    }
   ],
   "source": [
    "!which python"
   ]
  },
  {
   "cell_type": "code",
   "execution_count": 3,
   "id": "6bd3888c",
   "metadata": {},
   "outputs": [],
   "source": [
    "import pandas as pd\n",
    "import os"
   ]
  },
  {
   "cell_type": "code",
   "execution_count": 4,
   "id": "84bd6dce",
   "metadata": {},
   "outputs": [
    {
     "name": "stdout",
     "output_type": "stream",
     "text": [
      "/rds/prj_ppn_ar_group/Tao/ohsn/ohsn/time_series\n"
     ]
    }
   ],
   "source": [
    "!pwd"
   ]
  },
  {
   "cell_type": "code",
   "execution_count": 10,
   "id": "a15c5ea8",
   "metadata": {},
   "outputs": [],
   "source": [
    "# path = '/home/jovyan/work/ohsn/ohsn/time_series/'\n",
    "path = '/home/ubuntu/rds/prj_ppn_ar_group/Tao/ohsn/ohsn/time_series/'"
   ]
  },
  {
   "cell_type": "code",
   "execution_count": 11,
   "id": "19f2e1a3",
   "metadata": {},
   "outputs": [],
   "source": [
    "# !cd $path && ls -l data\n",
    "# # !cd data/ && ls -l wwwpeereff_*.csv\n",
    "# !head -n 5 /home/jovyan/work/ohsn/ohsn/time_series/data/wwwpeereff_0.csv "
   ]
  },
  {
   "cell_type": "code",
   "execution_count": 12,
   "id": "8630a692",
   "metadata": {},
   "outputs": [],
   "source": [
    "def combine_csv(input_dir, output_file):\n",
    "    # List to hold DataFrames\n",
    "    dfs = []\n",
    "    \n",
    "    # Iterate through all CSV files in the input directory\n",
    "    for i in range(1000):\n",
    "        file_path = os.path.join(input_dir, f'wwwpeereff_{i}.csv')\n",
    "        if os.path.exists(file_path):\n",
    "            # Read the CSV file and append the DataFrame to the list\n",
    "            df = pd.read_csv(file_path)\n",
    "            # print(f\"Reading {file_path} with shape {df.shape}\")\n",
    "            # if df.shape[1] != 99:\n",
    "                # print(f\"Warning: {file_path} does not have 99 columns, it has {df.shape[1]} columns.\")\n",
    "            dfs.append(df)\n",
    "        else:\n",
    "            print(f\"File {file_path} does not exist.\")\n",
    "    \n",
    "    # Concatenate all DataFrames in the list into a single DataFrame\n",
    "    combined_df = pd.concat(dfs, ignore_index=True)\n",
    "    \n",
    "    # Write the combined DataFrame to a new CSV file\n",
    "    combined_df.to_csv(output_file, index=False)"
   ]
  },
  {
   "cell_type": "code",
   "execution_count": 13,
   "id": "8f73358b",
   "metadata": {},
   "outputs": [],
   "source": [
    "combine_csv(path + 'data', path + 'data/combined_wwwpeereff.csv')"
   ]
  },
  {
   "cell_type": "code",
   "execution_count": 21,
   "id": "e2e6eeb6",
   "metadata": {},
   "outputs": [],
   "source": [
    "# df = pd.read_csv(path + 'data/peereff.csv')\n",
    "# com = pd.read_csv(path + 'data/fed.com.csv')\n",
    "df = pd.read_csv(path + 'data/combined_wwwpeereff.csv')\n",
    "com = pd.read_csv(path + 'data/www.newcom.csv')"
   ]
  },
  {
   "cell_type": "code",
   "execution_count": 22,
   "id": "b78d1196",
   "metadata": {},
   "outputs": [],
   "source": [
    "# df = pd.read_csv(path + 'data/wwwpeereff_1.csv')"
   ]
  },
  {
   "cell_type": "code",
   "execution_count": 23,
   "id": "8afbca5e",
   "metadata": {},
   "outputs": [
    {
     "data": {
      "text/plain": [
       "count    70802.000000\n",
       "mean         1.971653\n",
       "std         34.695525\n",
       "min          0.000000\n",
       "25%          0.000000\n",
       "50%          0.000000\n",
       "75%          0.000000\n",
       "max       3590.000000\n",
       "Name: friends_ratio, dtype: float64"
      ]
     },
     "execution_count": 23,
     "metadata": {},
     "output_type": "execute_result"
    }
   ],
   "source": [
    "df['friends_ratio'].describe()"
   ]
  },
  {
   "cell_type": "code",
   "execution_count": 24,
   "id": "71944d60",
   "metadata": {},
   "outputs": [],
   "source": [
    "df['obs_rate'] = df['fnum']/df['friends_count']"
   ]
  },
  {
   "cell_type": "code",
   "execution_count": 25,
   "id": "4b32683c",
   "metadata": {},
   "outputs": [
    {
     "name": "stderr",
     "output_type": "stream",
     "text": [
      "/home/ubuntu/anaconda3/envs/myenv/lib/python3.12/site-packages/pandas/core/nanops.py:1016: RuntimeWarning: invalid value encountered in subtract\n",
      "  sqr = _ensure_numeric((avg - values) ** 2)\n"
     ]
    },
    {
     "data": {
      "text/plain": [
       "count    7.080200e+04\n",
       "mean              inf\n",
       "std               NaN\n",
       "min      3.999824e-06\n",
       "25%      5.910165e-04\n",
       "50%      1.168224e-03\n",
       "75%      2.808989e-03\n",
       "max               inf\n",
       "Name: obs_rate, dtype: float64"
      ]
     },
     "execution_count": 25,
     "metadata": {},
     "output_type": "execute_result"
    }
   ],
   "source": [
    "df['obs_rate'].describe()"
   ]
  },
  {
   "cell_type": "code",
   "execution_count": 27,
   "id": "945e4e7f",
   "metadata": {},
   "outputs": [
    {
     "data": {
      "text/plain": [
       "(173, 100)"
      ]
     },
     "execution_count": 27,
     "metadata": {},
     "output_type": "execute_result"
    }
   ],
   "source": [
    "df[df['obs_rate']>0.5].shape"
   ]
  },
  {
   "cell_type": "code",
   "execution_count": 11,
   "id": "55ab8c93",
   "metadata": {},
   "outputs": [
    {
     "data": {
      "text/html": [
       "<div>\n",
       "<style scoped>\n",
       "    .dataframe tbody tr th:only-of-type {\n",
       "        vertical-align: middle;\n",
       "    }\n",
       "\n",
       "    .dataframe tbody tr th {\n",
       "        vertical-align: top;\n",
       "    }\n",
       "\n",
       "    .dataframe thead th {\n",
       "        text-align: right;\n",
       "    }\n",
       "</style>\n",
       "<table border=\"1\" class=\"dataframe\">\n",
       "  <thead>\n",
       "    <tr style=\"text-align: right;\">\n",
       "      <th></th>\n",
       "      <th>id</th>\n",
       "      <th>level</th>\n",
       "      <th>posemo</th>\n",
       "      <th>negemo</th>\n",
       "      <th>ingest</th>\n",
       "      <th>bio</th>\n",
       "      <th>body</th>\n",
       "      <th>health</th>\n",
       "      <th>death</th>\n",
       "      <th>anx</th>\n",
       "      <th>...</th>\n",
       "      <th>scalem</th>\n",
       "      <th>N</th>\n",
       "      <th>timeline_count</th>\n",
       "      <th>friends_count</th>\n",
       "      <th>followers_count</th>\n",
       "      <th>statuses_count</th>\n",
       "      <th>active_day</th>\n",
       "      <th>followers_day</th>\n",
       "      <th>friends_day</th>\n",
       "      <th>statuses_day</th>\n",
       "    </tr>\n",
       "  </thead>\n",
       "  <tbody>\n",
       "    <tr>\n",
       "      <th>0</th>\n",
       "      <td>927795600</td>\n",
       "      <td>1</td>\n",
       "      <td>0.050842</td>\n",
       "      <td>0.038545</td>\n",
       "      <td>0.027209</td>\n",
       "      <td>0.048051</td>\n",
       "      <td>0.008721</td>\n",
       "      <td>0.010378</td>\n",
       "      <td>0.003401</td>\n",
       "      <td>0.004012</td>\n",
       "      <td>...</td>\n",
       "      <td>0.087204</td>\n",
       "      <td>1055</td>\n",
       "      <td>NaN</td>\n",
       "      <td>NaN</td>\n",
       "      <td>NaN</td>\n",
       "      <td>NaN</td>\n",
       "      <td>580.0</td>\n",
       "      <td>2.717241</td>\n",
       "      <td>2.317241</td>\n",
       "      <td>4.277586</td>\n",
       "    </tr>\n",
       "    <tr>\n",
       "      <th>1</th>\n",
       "      <td>2187938209</td>\n",
       "      <td>1</td>\n",
       "      <td>0.061132</td>\n",
       "      <td>0.053560</td>\n",
       "      <td>0.018284</td>\n",
       "      <td>0.061779</td>\n",
       "      <td>0.020501</td>\n",
       "      <td>0.016253</td>\n",
       "      <td>0.007572</td>\n",
       "      <td>0.002216</td>\n",
       "      <td>...</td>\n",
       "      <td>-0.191561</td>\n",
       "      <td>1493</td>\n",
       "      <td>NaN</td>\n",
       "      <td>NaN</td>\n",
       "      <td>NaN</td>\n",
       "      <td>NaN</td>\n",
       "      <td>816.0</td>\n",
       "      <td>0.383578</td>\n",
       "      <td>0.582108</td>\n",
       "      <td>4.040441</td>\n",
       "    </tr>\n",
       "    <tr>\n",
       "      <th>2</th>\n",
       "      <td>3168148080</td>\n",
       "      <td>1</td>\n",
       "      <td>0.027508</td>\n",
       "      <td>0.024595</td>\n",
       "      <td>0.046926</td>\n",
       "      <td>0.067961</td>\n",
       "      <td>0.017799</td>\n",
       "      <td>0.016828</td>\n",
       "      <td>0.001294</td>\n",
       "      <td>0.001618</td>\n",
       "      <td>...</td>\n",
       "      <td>-0.203252</td>\n",
       "      <td>246</td>\n",
       "      <td>NaN</td>\n",
       "      <td>NaN</td>\n",
       "      <td>NaN</td>\n",
       "      <td>NaN</td>\n",
       "      <td>257.0</td>\n",
       "      <td>0.669261</td>\n",
       "      <td>0.556420</td>\n",
       "      <td>7.501946</td>\n",
       "    </tr>\n",
       "    <tr>\n",
       "      <th>3</th>\n",
       "      <td>569266852</td>\n",
       "      <td>1</td>\n",
       "      <td>0.044760</td>\n",
       "      <td>0.041655</td>\n",
       "      <td>0.021771</td>\n",
       "      <td>0.052737</td>\n",
       "      <td>0.015326</td>\n",
       "      <td>0.013243</td>\n",
       "      <td>0.002436</td>\n",
       "      <td>0.004873</td>\n",
       "      <td>...</td>\n",
       "      <td>-0.179454</td>\n",
       "      <td>1538</td>\n",
       "      <td>NaN</td>\n",
       "      <td>NaN</td>\n",
       "      <td>NaN</td>\n",
       "      <td>NaN</td>\n",
       "      <td>177.0</td>\n",
       "      <td>1.531073</td>\n",
       "      <td>1.689266</td>\n",
       "      <td>9.796610</td>\n",
       "    </tr>\n",
       "    <tr>\n",
       "      <th>4</th>\n",
       "      <td>2920121289</td>\n",
       "      <td>1</td>\n",
       "      <td>0.025366</td>\n",
       "      <td>0.043543</td>\n",
       "      <td>0.044628</td>\n",
       "      <td>0.089528</td>\n",
       "      <td>0.030250</td>\n",
       "      <td>0.022925</td>\n",
       "      <td>0.002849</td>\n",
       "      <td>0.004476</td>\n",
       "      <td>...</td>\n",
       "      <td>-0.521236</td>\n",
       "      <td>518</td>\n",
       "      <td>NaN</td>\n",
       "      <td>NaN</td>\n",
       "      <td>NaN</td>\n",
       "      <td>NaN</td>\n",
       "      <td>425.0</td>\n",
       "      <td>0.428235</td>\n",
       "      <td>0.327059</td>\n",
       "      <td>2.143529</td>\n",
       "    </tr>\n",
       "  </tbody>\n",
       "</table>\n",
       "<p>5 rows × 32 columns</p>\n",
       "</div>"
      ],
      "text/plain": [
       "           id  level    posemo    negemo    ingest       bio      body  \\\n",
       "0   927795600      1  0.050842  0.038545  0.027209  0.048051  0.008721   \n",
       "1  2187938209      1  0.061132  0.053560  0.018284  0.061779  0.020501   \n",
       "2  3168148080      1  0.027508  0.024595  0.046926  0.067961  0.017799   \n",
       "3   569266852      1  0.044760  0.041655  0.021771  0.052737  0.015326   \n",
       "4  2920121289      1  0.025366  0.043543  0.044628  0.089528  0.030250   \n",
       "\n",
       "     health     death       anx  ...    scalem     N  timeline_count  \\\n",
       "0  0.010378  0.003401  0.004012  ...  0.087204  1055             NaN   \n",
       "1  0.016253  0.007572  0.002216  ... -0.191561  1493             NaN   \n",
       "2  0.016828  0.001294  0.001618  ... -0.203252   246             NaN   \n",
       "3  0.013243  0.002436  0.004873  ... -0.179454  1538             NaN   \n",
       "4  0.022925  0.002849  0.004476  ... -0.521236   518             NaN   \n",
       "\n",
       "   friends_count  followers_count  statuses_count  active_day  followers_day  \\\n",
       "0            NaN              NaN             NaN       580.0       2.717241   \n",
       "1            NaN              NaN             NaN       816.0       0.383578   \n",
       "2            NaN              NaN             NaN       257.0       0.669261   \n",
       "3            NaN              NaN             NaN       177.0       1.531073   \n",
       "4            NaN              NaN             NaN       425.0       0.428235   \n",
       "\n",
       "   friends_day  statuses_day  \n",
       "0     2.317241      4.277586  \n",
       "1     0.582108      4.040441  \n",
       "2     0.556420      7.501946  \n",
       "3     1.689266      9.796610  \n",
       "4     0.327059      2.143529  \n",
       "\n",
       "[5 rows x 32 columns]"
      ]
     },
     "execution_count": 11,
     "metadata": {},
     "output_type": "execute_result"
    }
   ],
   "source": [
    "com.head()"
   ]
  },
  {
   "cell_type": "code",
   "execution_count": null,
   "id": "b901093c",
   "metadata": {},
   "outputs": [],
   "source": [
    "timeline_count"
   ]
  }
 ],
 "metadata": {
  "kernelspec": {
   "display_name": "myenv",
   "language": "python",
   "name": "python3"
  },
  "language_info": {
   "codemirror_mode": {
    "name": "ipython",
    "version": 3
   },
   "file_extension": ".py",
   "mimetype": "text/x-python",
   "name": "python",
   "nbconvert_exporter": "python",
   "pygments_lexer": "ipython3",
   "version": "3.12.11"
  }
 },
 "nbformat": 4,
 "nbformat_minor": 5
}
